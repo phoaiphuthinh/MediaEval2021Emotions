{
  "nbformat": 4,
  "nbformat_minor": 0,
  "metadata": {
    "accelerator": "GPU",
    "colab": {
      "name": "Emotions.ipynb",
      "provenance": [],
      "collapsed_sections": []
    },
    "kernelspec": {
      "display_name": "Python 3",
      "name": "python3"
    },
    "language_info": {
      "name": "python"
    }
  },
  "cells": [
    {
      "cell_type": "code",
      "metadata": {
        "id": "gVLw_u1VF_Q1"
      },
      "source": [
        "import zipfile\n",
        "with zipfile.ZipFile('drive/MyDrive/MediaEval21/test.zip', 'r') as zip_ref:\n",
        "    zip_ref.extractall('data')"
      ],
      "execution_count": null,
      "outputs": []
    },
    {
      "cell_type": "code",
      "metadata": {
        "id": "sXHTocq_Gn5T"
      },
      "source": [
        "import os\n",
        "import glob\n",
        "import shutil\n",
        "\n",
        "fols = glob.glob('data/drive/MyDrive/MediaEval21/dataset/*')\n",
        "for folder in fols:\n",
        "  shutil.move(folder, 'data/')"
      ],
      "execution_count": null,
      "outputs": []
    },
    {
      "cell_type": "code",
      "metadata": {
        "id": "R82apj6aKpTO"
      },
      "source": [
        "pathAudio={}\n",
        "\n",
        "with open('train_balance3.tsv') as ftrain:\n",
        "    contents= ftrain.read().splitlines()\n",
        "    for con in contents[1:]:\n",
        "        con=con.split(\"\\t\")[3].split(\".\")[0].split(\"/\")\n",
        "        #print(con)\n",
        "        pathAudio[int(con[1])]=con[0]\n",
        "with open('drive/MyDrive/MediaEval2020/Emotions/mel_spectrogram/moodtheme_mel/autotagging_moodtheme-validation.tsv') as fvalidation:\n",
        "    contents= fvalidation.read().splitlines()\n",
        "    for con in contents[1:]:\n",
        "        con=con.split(\"\\t\")[3].split(\".\")[0].split(\"/\")\n",
        "        pathAudio[int(con[1])]=con[0]\n",
        "with open('drive/MyDrive/MediaEval2020/Emotions/mel_spectrogram/moodtheme_mel/autotagging_moodtheme-test.tsv') as ftest:\n",
        "    contents= ftest.read().splitlines()\n",
        "    for con in contents[1:]:\n",
        "        con=con.split(\"\\t\")[3].split(\".\")[0].split(\"/\")\n",
        "        pathAudio[int(con[1])]=con[0]"
      ],
      "execution_count": null,
      "outputs": []
    },
    {
      "cell_type": "code",
      "metadata": {
        "id": "yt0Wb60ELLpS"
      },
      "source": [
        "import torch\n",
        "import torch.nn as nn\n",
        "import torch.nn.functional as F\n",
        "import torch.optim as optim\n",
        "from torch.utils.data import Dataset, DataLoader, TensorDataset\n",
        "from torch.autograd import Variable\n",
        "\n",
        "USE_CUDA = True if torch.cuda.is_available() else False\n",
        "\n",
        "import numpy as np\n",
        "import pandas as pd"
      ],
      "execution_count": null,
      "outputs": []
    },
    {
      "cell_type": "code",
      "metadata": {
        "colab": {
          "base_uri": "https://localhost:8080/"
        },
        "id": "NYfHCQ9GLdZm",
        "outputId": "39b30c31-4986-4e5d-8d1d-a65c8da80e0a"
      },
      "source": [
        "torch.set_num_threads(7)\n",
        "torch.manual_seed(1234)"
      ],
      "execution_count": null,
      "outputs": [
        {
          "output_type": "execute_result",
          "data": {
            "text/plain": [
              "<torch._C.Generator at 0x7fc54bc501d0>"
            ]
          },
          "metadata": {},
          "execution_count": 3
        }
      ]
    },
    {
      "cell_type": "code",
      "metadata": {
        "colab": {
          "base_uri": "https://localhost:8080/"
        },
        "id": "29J4u0FiLjjc",
        "outputId": "2e328adf-bb65-4722-f278-0e143ad1def1"
      },
      "source": [
        "import glob\n",
        "listdata=glob.glob(\"data/*/*[0-9].npy\")\n",
        "dsample=set([int(i.replace(\"data/\",\"\").replace(\".npy\",\"\")[3:]) for i in listdata])\n",
        "#listwav=glob.glob('wavenet/*.npy')\n",
        "#wsample=set([int(i.replace('wavenet/','').replace('.npy','')) for i in listwav])\n",
        "print(len(dsample))\n",
        "#print(len(wsample))"
      ],
      "execution_count": null,
      "outputs": [
        {
          "output_type": "stream",
          "name": "stdout",
          "text": [
            "4231\n"
          ]
        }
      ]
    },
    {
      "cell_type": "code",
      "metadata": {
        "id": "BPSzTf5mM_IE"
      },
      "source": [
        "val_list = list(map(lambda x : x[0], valid_df.iterrows()))\n",
        "import os \n",
        "import zipfile \n",
        "\n",
        "zf = zipfile.ZipFile(\"drive/MyDrive/MediaEval21/val.zip\", \"w\") \n",
        "for dirname, subdirs, files in os.walk(\"drive/MyDrive/MediaEval21/dataset\"): \n",
        "  for filename in files: \n",
        "    name = filename[:-4] \n",
        "    path = '0' * (7 - len(name)) + name\n",
        "    if path in val_list:\n",
        "      zf.write(os.path.join(dirname, filename)) \n",
        "zf.close()"
      ],
      "execution_count": null,
      "outputs": []
    },
    {
      "cell_type": "code",
      "metadata": {
        "id": "xQlPnw9c3Cr2"
      },
      "source": [
        "#file_common = wsample.intersection(dsample)"
      ],
      "execution_count": null,
      "outputs": []
    },
    {
      "cell_type": "code",
      "metadata": {
        "colab": {
          "base_uri": "https://localhost:8080/"
        },
        "id": "QI5Kgvc2LoFM",
        "outputId": "da918b36-e306-4b39-bb4b-f0b58f10b589"
      },
      "source": [
        "import commons\n",
        "train_info = commons.read_file('train_balance3.tsv')\n",
        "validation_info = commons.read_file('drive/MyDrive/MediaEval2020/Emotions/mel_spectrogram/moodtheme_mel/autotagging_moodtheme-validation.tsv')\n",
        "test_info = commons.read_file('drive/MyDrive/MediaEval2020/Emotions/mel_spectrogram/moodtheme_mel/autotagging_moodtheme-test.tsv')"
      ],
      "execution_count": null,
      "outputs": [
        {
          "output_type": "stream",
          "name": "stdout",
          "text": [
            "Reading: 9080 tracks, 2376 albums, 841 artists\n",
            "Reading: 3802 tracks, 927 albums, 307 artists\n",
            "Reading: 4231 tracks, 1025 albums, 327 artists\n"
          ]
        }
      ]
    },
    {
      "cell_type": "code",
      "metadata": {
        "id": "uGq-UqsYLyl5"
      },
      "source": [
        "def parse(a_info):\n",
        "    ans = []\n",
        "    total = 0\n",
        "    \n",
        "    #print(a_info[])\n",
        "    \n",
        "    for k,v in a_info[1]['mood/theme'].items():\n",
        "        \n",
        "        total += len(list(v))\n",
        "        \n",
        "        ans.append(pd.DataFrame({\n",
        "            k: 1,\n",
        "            'file': list(v)\n",
        "        }))\n",
        "        \n",
        "    df = ans[0]\n",
        "    \n",
        "    \n",
        "    for x in ans[1:]:\n",
        "        df = pd.merge(df, x, on='file', how='outer')\n",
        "    df = df.set_index('file').fillna(0)\n",
        "    df.loc[:, :] = df.loc[:, :].astype('int64')\n",
        "    return df"
      ],
      "execution_count": null,
      "outputs": []
    },
    {
      "cell_type": "code",
      "metadata": {
        "id": "pqWJRGIrL1j5"
      },
      "source": [
        "train_df = parse(train_info)\n",
        "valid_df = parse(validation_info)\n",
        "test_df = parse(test_info)"
      ],
      "execution_count": null,
      "outputs": []
    },
    {
      "cell_type": "code",
      "metadata": {
        "id": "WgaUoDMZL32J"
      },
      "source": [
        "train_df = train_df.loc[:, sorted(train_df.columns.tolist())]\n",
        "valid_df = valid_df.loc[:, sorted(valid_df.columns.tolist())]\n",
        "test_df = test_df.loc[:, sorted(test_df.columns.tolist())]\n",
        "\n",
        "test_df = test_df.sort_index()"
      ],
      "execution_count": null,
      "outputs": []
    },
    {
      "cell_type": "code",
      "metadata": {
        "id": "ov0DMzXiL8Bq"
      },
      "source": [
        "import random"
      ],
      "execution_count": null,
      "outputs": []
    },
    {
      "cell_type": "code",
      "metadata": {
        "id": "MiHAzAfuL9-b"
      },
      "source": [
        "def random_30s(name):\n",
        "    mel = np.load('data/'+str(pathAudio[name])+'/'+str(name)+'.npy')\n",
        "    mel_len = mel.shape[1]\n",
        "    offset = random.randint(0, (mel_len - 960))\n",
        "    cut_mel = mel[:, offset:(offset + 960)]\n",
        "    # try:\n",
        "    #     wave = np.load('wavenet/'+str(name)+'.npy')\n",
        "    # except:\n",
        "    #     name = (7 - len(str(name))) * \"0\" + str(name)\n",
        "    #     wave = np.load('wavenet/'+str(name)+'.npy')\n",
        "    # wave_len = wave.shape[1]\n",
        "    # offs = random.randint(0, (wave_len - 600))\n",
        "    # cut_wave = wave[:, offs: (offs + 600)]\n",
        "    return cut_mel"
      ],
      "execution_count": null,
      "outputs": []
    },
    {
      "cell_type": "code",
      "metadata": {
        "id": "6nXmwEH9MAGs"
      },
      "source": [
        "from transforms import get_transforms"
      ],
      "execution_count": null,
      "outputs": []
    },
    {
      "cell_type": "code",
      "metadata": {
        "id": "dihY6qsoMG_a"
      },
      "source": [
        "train_transform = get_transforms(\n",
        "    train=True,\n",
        "    size=640,\n",
        "    wrap_pad_prob=0.5,\n",
        "    resize_scale=(0.8, 1.0),\n",
        "    resize_ratio=(1.7, 2.3),\n",
        "    resize_prob=0.33,\n",
        "    spec_num_mask=3,\n",
        "    spec_freq_masking=0.15,\n",
        "    spec_time_masking=0.20,\n",
        "    spec_prob=0.5\n",
        ")\n",
        "val_transform = get_transforms(False, 640)"
      ],
      "execution_count": null,
      "outputs": []
    },
    {
      "cell_type": "code",
      "metadata": {
        "id": "tQcQy4T7pES2"
      },
      "source": [
        "train_transform_wave = get_transforms(\n",
        "    train=True,\n",
        "    size=960,\n",
        "    wrap_pad_prob=0.5,\n",
        "    resize_scale=(0.8, 1.0),\n",
        "    resize_ratio=(1.7, 2.3),\n",
        "    resize_prob=0.33,\n",
        "    spec_num_mask=1,\n",
        "    spec_freq_masking=0.1,\n",
        "    spec_time_masking=0.15,\n",
        "    spec_prob=0.7\n",
        ")\n",
        "val_transform_wave = get_transforms(False, 960)"
      ],
      "execution_count": null,
      "outputs": []
    },
    {
      "cell_type": "code",
      "metadata": {
        "id": "0ha0FDfaMJc4"
      },
      "source": [
        "class AudioDataset(Dataset):\n",
        "    \n",
        "    def __init__(self, df, transform=None):\n",
        "        self.df = df\n",
        "        self.transform = transform\n",
        "    \n",
        "    def __len__(self):\n",
        "        return self.df.shape[0]\n",
        "    \n",
        "    def __getitem__(self, idx):\n",
        "        \n",
        "        this_file = self.df.index[idx]\n",
        "        name = int(this_file)\n",
        "        \n",
        "        #mel = random_30s(name)\n",
        "        # try:\n",
        "        #     sample = np.load('wavenet/'+str(name)+'.npy')\n",
        "        # except:\n",
        "        #     name = (7 - len(str(name))) * \"0\" + str(name)\n",
        "        #     sample = np.load('wavenet/'+str(name)+'.npy')\n",
        "\n",
        "        image = np.load('data/'+str(pathAudio[name])+'/'+str(name)+'.npy')\n",
        "        # image = np.transpose(image, (0,2,1))        \n",
        "        # image = np.squeeze(image)        \n",
        "        \n",
        "        #image = np.tile(image, (2,1))\n",
        "        #print(image.shape)\n",
        "\n",
        "        #print(\"Image\", image.shape)\n",
        "\n",
        "        if self.transform is not None:\n",
        "            image = self.transform(image)\n",
        "\n",
        "        # wave = np.transpose(wave, (0,2,1))        \n",
        "        # wave = np.squeeze(wave)        \n",
        "        # wave = np.tile(wave, (2,1))\n",
        "             \n",
        "        # if self.transform is not None:\n",
        "        #     mel = self.transform(mel)\n",
        "            #wave = self.transform[1](wave)\n",
        "        \n",
        "        return image, torch.Tensor(self.df.values[idx])"
      ],
      "execution_count": null,
      "outputs": []
    },
    {
      "cell_type": "code",
      "metadata": {
        "id": "3OaGSmGaMN8t"
      },
      "source": [
        "train_dataset = AudioDataset(train_df, train_transform)\n",
        "valid_dataset = AudioDataset(valid_df, val_transform)\n",
        "test_dataset = AudioDataset(test_df, val_transform)"
      ],
      "execution_count": null,
      "outputs": []
    },
    {
      "cell_type": "code",
      "metadata": {
        "colab": {
          "base_uri": "https://localhost:8080/"
        },
        "id": "9mpmg2KWMP_r",
        "outputId": "f113c07b-5397-4e32-961e-3d43bcd14dbe"
      },
      "source": [
        "print(len(test_dataset))"
      ],
      "execution_count": null,
      "outputs": [
        {
          "output_type": "stream",
          "name": "stdout",
          "text": [
            "4231\n"
          ]
        }
      ]
    },
    {
      "cell_type": "code",
      "metadata": {
        "colab": {
          "base_uri": "https://localhost:8080/",
          "height": 295
        },
        "id": "4KTBxXRsMZXr",
        "outputId": "7c1cbae1-ee8e-4861-d7a8-17c5c656c6af"
      },
      "source": [
        "import seaborn as sns\n",
        "sns.heatmap(test_dataset[10][0][0, :, :].numpy())"
      ],
      "execution_count": null,
      "outputs": [
        {
          "output_type": "execute_result",
          "data": {
            "text/plain": [
              "<matplotlib.axes._subplots.AxesSubplot at 0x7f999d00f250>"
            ]
          },
          "metadata": {},
          "execution_count": 34
        },
        {
          "output_type": "display_data",
          "data": {
            "image/png": "[encoded data removed]",
            "text/plain": [
              "<Figure size 432x288 with 2 Axes>"
            ]
          },
          "metadata": {
            "needs_background": "light"
          }
        }
      ]
    },
    {
      "cell_type": "code",
      "metadata": {
        "colab": {
          "base_uri": "https://localhost:8080/"
        },
        "id": "bnX4YsQnAs7Z",
        "outputId": "a902f4c0-ac85-4ab8-e5d8-1b3092044139"
      },
      "source": [
        "!pip install timm"
      ],
      "execution_count": null,
      "outputs": [
        {
          "output_type": "stream",
          "name": "stdout",
          "text": [
            "Collecting timm\n",
            "  Downloading timm-0.4.12-py3-none-any.whl (376 kB)\n",
            "\u001b[?25l\r\u001b[K     |▉                               | 10 kB 37.5 MB/s eta 0:00:01\r\u001b[K     |█▊                              | 20 kB 31.4 MB/s eta 0:00:01\r\u001b[K     |██▋                             | 30 kB 19.9 MB/s eta 0:00:01\r\u001b[K     |███▌                            | 40 kB 17.7 MB/s eta 0:00:01\r\u001b[K     |████▍                           | 51 kB 7.9 MB/s eta 0:00:01\r\u001b[K     |█████▏                          | 61 kB 8.3 MB/s eta 0:00:01\r\u001b[K     |██████                          | 71 kB 7.5 MB/s eta 0:00:01\r\u001b[K     |███████                         | 81 kB 8.5 MB/s eta 0:00:01\r\u001b[K     |███████▉                        | 92 kB 8.6 MB/s eta 0:00:01\r\u001b[K     |████████▊                       | 102 kB 7.6 MB/s eta 0:00:01\r\u001b[K     |█████████▋                      | 112 kB 7.6 MB/s eta 0:00:01\r\u001b[K     |██████████▍                     | 122 kB 7.6 MB/s eta 0:00:01\r\u001b[K     |███████████▎                    | 133 kB 7.6 MB/s eta 0:00:01\r\u001b[K     |████████████▏                   | 143 kB 7.6 MB/s eta 0:00:01\r\u001b[K     |█████████████                   | 153 kB 7.6 MB/s eta 0:00:01\r\u001b[K     |██████████████                  | 163 kB 7.6 MB/s eta 0:00:01\r\u001b[K     |██████████████▊                 | 174 kB 7.6 MB/s eta 0:00:01\r\u001b[K     |███████████████▋                | 184 kB 7.6 MB/s eta 0:00:01\r\u001b[K     |████████████████▌               | 194 kB 7.6 MB/s eta 0:00:01\r\u001b[K     |█████████████████▍              | 204 kB 7.6 MB/s eta 0:00:01\r\u001b[K     |██████████████████▎             | 215 kB 7.6 MB/s eta 0:00:01\r\u001b[K     |███████████████████▏            | 225 kB 7.6 MB/s eta 0:00:01\r\u001b[K     |████████████████████            | 235 kB 7.6 MB/s eta 0:00:01\r\u001b[K     |████████████████████▉           | 245 kB 7.6 MB/s eta 0:00:01\r\u001b[K     |█████████████████████▊          | 256 kB 7.6 MB/s eta 0:00:01\r\u001b[K     |██████████████████████▋         | 266 kB 7.6 MB/s eta 0:00:01\r\u001b[K     |███████████████████████▌        | 276 kB 7.6 MB/s eta 0:00:01\r\u001b[K     |████████████████████████▍       | 286 kB 7.6 MB/s eta 0:00:01\r\u001b[K     |█████████████████████████▏      | 296 kB 7.6 MB/s eta 0:00:01\r\u001b[K     |██████████████████████████      | 307 kB 7.6 MB/s eta 0:00:01\r\u001b[K     |███████████████████████████     | 317 kB 7.6 MB/s eta 0:00:01\r\u001b[K     |███████████████████████████▉    | 327 kB 7.6 MB/s eta 0:00:01\r\u001b[K     |████████████████████████████▊   | 337 kB 7.6 MB/s eta 0:00:01\r\u001b[K     |█████████████████████████████▌  | 348 kB 7.6 MB/s eta 0:00:01\r\u001b[K     |██████████████████████████████▍ | 358 kB 7.6 MB/s eta 0:00:01\r\u001b[K     |███████████████████████████████▎| 368 kB 7.6 MB/s eta 0:00:01\r\u001b[K     |████████████████████████████████| 376 kB 7.6 MB/s \n",
            "\u001b[?25hRequirement already satisfied: torchvision in /usr/local/lib/python3.7/dist-packages (from timm) (0.11.1+cu111)\n",
            "Requirement already satisfied: torch>=1.4 in /usr/local/lib/python3.7/dist-packages (from timm) (1.10.0+cu111)\n",
            "Requirement already satisfied: typing-extensions in /usr/local/lib/python3.7/dist-packages (from torch>=1.4->timm) (3.10.0.2)\n",
            "Requirement already satisfied: numpy in /usr/local/lib/python3.7/dist-packages (from torchvision->timm) (1.19.5)\n",
            "Requirement already satisfied: pillow!=8.3.0,>=5.3.0 in /usr/local/lib/python3.7/dist-packages (from torchvision->timm) (7.1.2)\n",
            "Installing collected packages: timm\n",
            "Successfully installed timm-0.4.12\n"
          ]
        }
      ]
    },
    {
      "cell_type": "code",
      "metadata": {
        "id": "t4o23mVXATAa"
      },
      "source": [
        "import timm"
      ],
      "execution_count": null,
      "outputs": []
    },
    {
      "cell_type": "code",
      "metadata": {
        "id": "5fktUawLMfA6"
      },
      "source": [
        "class Model_Rex(nn.Module):\n",
        "    \n",
        "    def __init__(self):\n",
        "        \n",
        "        super().__init__()\n",
        "        self.batch_normal = nn.BatchNorm2d(1)\n",
        "        self.bw2col = nn.Sequential(\n",
        "            nn.BatchNorm2d(1),\n",
        "            nn.Conv2d(1, 10, 1, padding=0), nn.ReLU(),\n",
        "            nn.Conv2d(10, 3, 1, padding=0), nn.ReLU())\n",
        "      \n",
        "        self.mv2 = timm.create_model('rexnet_100', pretrained=True, num_classes=56)\n",
        "    \n",
        "    def forward(self, x):\n",
        "        x = self.batch_normal(x)\n",
        "        x = self.bw2col(x)\n",
        "        x = self.mv2(x)\n",
        "        return x"
      ],
      "execution_count": null,
      "outputs": []
    },
    {
      "cell_type": "code",
      "metadata": {
        "id": "i9MkAOCRUusi"
      },
      "source": [
        "class Model_Reg(nn.Module):\n",
        "    \n",
        "    def __init__(self):\n",
        "        \n",
        "        super().__init__()\n",
        "        self.batch_normal = nn.BatchNorm2d(1)\n",
        "        self.bw2col = nn.Sequential(\n",
        "            nn.BatchNorm2d(1),\n",
        "            nn.Conv2d(1, 10, 1, padding=0), nn.ReLU(),\n",
        "            nn.Conv2d(10, 3, 1, padding=0), nn.ReLU())\n",
        "      \n",
        "        self.mv2 = timm.create_model('mixnet_s', pretrained=True, num_classes=56)\n",
        "    \n",
        "    def forward(self, x):\n",
        "        x = self.batch_normal(x)\n",
        "        x = self.bw2col(x)\n",
        "        x = self.mv2(x)\n",
        "        return x"
      ],
      "execution_count": null,
      "outputs": []
    },
    {
      "cell_type": "code",
      "metadata": {
        "colab": {
          "base_uri": "https://localhost:8080/"
        },
        "id": "ll6GHovjMhiM",
        "outputId": "91c8ba87-d867-4ce3-c4a8-aa6ec143a504"
      },
      "source": [
        "device = torch.device('cuda' if torch.cuda.is_available() else 'cpu')\n",
        "print('Device: ', device)"
      ],
      "execution_count": null,
      "outputs": [
        {
          "output_type": "stream",
          "name": "stdout",
          "text": [
            "Device:  cuda\n"
          ]
        }
      ]
    },
    {
      "cell_type": "code",
      "metadata": {
        "colab": {
          "base_uri": "https://localhost:8080/"
        },
        "id": "skKWq0-lMjhy",
        "outputId": "c741b503-0e43-4e07-adda-1f16171ab6f7"
      },
      "source": [
        "from hparams import create_hparams\n",
        "model_rex = Model_Rex().to(device)\n",
        "model_reg = Model_Reg().to(device)"
      ],
      "execution_count": null,
      "outputs": [
        {
          "output_type": "stream",
          "name": "stderr",
          "text": [
            "Downloading: \"https://github.com/rwightman/pytorch-image-models/releases/download/v0.1-rexnet/rexnetv1_100-1b4dddf4.pth\" to /root/.cache/torch/hub/checkpoints/rexnetv1_100-1b4dddf4.pth\n",
            "Downloading: \"https://github.com/rwightman/pytorch-image-models/releases/download/v0.1-weights/mixnet_s-a907afbc.pth\" to /root/.cache/torch/hub/checkpoints/mixnet_s-a907afbc.pth\n"
          ]
        }
      ]
    },
    {
      "cell_type": "code",
      "metadata": {
        "id": "-HS_gPu2MmTk"
      },
      "source": [
        "optimizer_rex = optim.Adam(model_rex.parameters(), lr=0.001, amsgrad=True)\n",
        "scheduler_rex = optim.lr_scheduler.ReduceLROnPlateau(optimizer_rex, patience=5, verbose=True)\n",
        "optimizer_reg = optim.Adam(model_reg.parameters(), lr=0.001, amsgrad=True)\n",
        "scheduler_reg = optim.lr_scheduler.ReduceLROnPlateau(optimizer_reg, patience=5, verbose=True)"
      ],
      "execution_count": null,
      "outputs": []
    },
    {
      "cell_type": "code",
      "metadata": {
        "id": "0qi_wNOfMp5w"
      },
      "source": [
        "class FocalLoss(nn.Module):\n",
        "    def __init__(self, alpha=1, gamma=2, logits=False, reduce=True):\n",
        "        super(FocalLoss, self).__init__()\n",
        "        self.alpha = alpha\n",
        "        self.gamma = gamma\n",
        "        self.logits = logits\n",
        "        self.reduce = reduce\n",
        "\n",
        "    def forward(self, inputs, targets):\n",
        "        if self.logits:\n",
        "            BCE_loss = F.binary_cross_entropy_with_logits(inputs, targets, reduce=False)\n",
        "        else:\n",
        "            BCE_loss = F.binary_cross_entropy(inputs, targets, reduce=False)\n",
        "        \n",
        "        pt = torch.exp(-BCE_loss)\n",
        "\n",
        "        F_loss = self.alpha * (1-pt)**self.gamma * BCE_loss\n",
        "\n",
        "        if self.reduce:\n",
        "            return torch.mean(F_loss)\n",
        "        else:\n",
        "            return F_loss"
      ],
      "execution_count": null,
      "outputs": []
    },
    {
      "cell_type": "code",
      "metadata": {
        "id": "nXEAMO-VMsRZ"
      },
      "source": [
        "class WeightedFocalLoss(nn.Module):\n",
        "    \"Non weighted version of Focal Loss\"\n",
        "    def __init__(self, alpha=.25, gamma=2):\n",
        "        super(WeightedFocalLoss, self).__init__()\n",
        "        self.alpha = torch.tensor([alpha, 1-alpha])\n",
        "        if torch.cuda.is_available():\n",
        "          self.alpha = self.alpha.cuda()\n",
        "        self.gamma = gamma\n",
        "\n",
        "    def forward(self, inputs, targets):\n",
        "        BCE_loss = F.binary_cross_entropy_with_logits(inputs, targets, reduction='none')\n",
        "        #targets = targets.type(torch.long)\n",
        "        \n",
        "        \n",
        "        #print(targets)\n",
        "        \n",
        "        y = torch.ones(targets.shape)\n",
        "        if torch.cuda.is_available():\n",
        "          y = y.cuda()\n",
        "        targets = torch.where(targets == 0, targets, y)\n",
        "        \n",
        "        targets = targets.type(torch.long)\n",
        "        \n",
        "        #print(targets)\n",
        "        \n",
        "        at = self.alpha.gather(0, targets.data.view(-1))\n",
        "        pt = torch.exp(-BCE_loss)\n",
        "        \n",
        "        \n",
        "        #print(targets)\n",
        "        #print(at)\n",
        "        at = at.view(-1, 56)\n",
        "        #print(at)\n",
        "        \n",
        "        F_loss = at*(1-pt)**self.gamma * BCE_loss\n",
        "        return F_loss"
      ],
      "execution_count": null,
      "outputs": []
    },
    {
      "cell_type": "code",
      "metadata": {
        "id": "J-3Q4j6-Muj4"
      },
      "source": [
        "#criterion = nn.BCEWithLogitsLoss(reduction='none')\n",
        "#criterion = FocalLoss(gamma=2,logits=True,reduce=False)\n",
        "criterion = WeightedFocalLoss(gamma=2)"
      ],
      "execution_count": null,
      "outputs": []
    },
    {
      "cell_type": "code",
      "metadata": {
        "id": "gvvsuKy-Mw3p"
      },
      "source": [
        "val_loader = DataLoader(valid_dataset, 256, shuffle=False)\n",
        "train_loader_1 = DataLoader(train_dataset, 32, shuffle=True, drop_last=True)\n",
        "train_loader_2 = DataLoader(train_dataset, 32, shuffle=True, drop_last=True)"
      ],
      "execution_count": null,
      "outputs": []
    },
    {
      "cell_type": "code",
      "metadata": {
        "id": "mJx47M0pMzTE"
      },
      "source": [
        "epochs = 200"
      ],
      "execution_count": null,
      "outputs": []
    },
    {
      "cell_type": "code",
      "metadata": {
        "id": "JlTpIqRyM6dH"
      },
      "source": [
        "from sklearn.metrics import roc_auc_score, average_precision_score"
      ],
      "execution_count": null,
      "outputs": []
    },
    {
      "cell_type": "code",
      "metadata": {
        "id": "HdhpyGUDsU9f"
      },
      "source": [
        "import tqdm"
      ],
      "execution_count": null,
      "outputs": []
    },
    {
      "cell_type": "code",
      "metadata": {
        "id": "zEvmHxpNsWP0"
      },
      "source": [
        "def get_tensor(fn):\n",
        "    # load audio\n",
        "    name = int(fn)\n",
        "\n",
        "    x = torch.zeros(16, 1, 96, 640)\n",
        "    #y = torch.zeros(16, 1, 32, 400)\n",
        "\n",
        "    mel = np.load('data/'+str(pathAudio[name])+'/'+str(name)+'.npy')\n",
        "    mel_len = mel.shape[1]\n",
        "\n",
        "    chunk = (mel_len - 960) // 16\n",
        "\n",
        "    for i in range(16):\n",
        "      offset = i * chunk\n",
        "      cut_mel = mel[:, offset:(offset + 960)]\n",
        "      x[i] = val_transform(cut_mel)\n",
        "      # wave = np.transpose(wave, (0,2,1))        \n",
        "      # wave = np.squeeze(wave)        \n",
        "      # wave = np.tile(wave, (2,1))\n",
        "      # y[i] = val_transform_wave(wave)\n",
        "    return x"
      ],
      "execution_count": null,
      "outputs": []
    },
    {
      "cell_type": "code",
      "metadata": {
        "id": "rC-3sGm1uNoK"
      },
      "source": [
        "def coteaching_loss(y_1, y_2, t, forget_rate):\n",
        "    loss_1 = criterion(y_1, t).mean(dim=1)\n",
        "    ind_1_sorted = torch.argsort(loss_1.data).to(device)\n",
        "\n",
        "    loss_2 = criterion(y_2, t).mean(dim=1)\n",
        "    ind_2_sorted = torch.argsort(loss_2.data).to(device)\n",
        "\n",
        "    remember_rate = 1 - forget_rate\n",
        "    num_remember = int(remember_rate * len(ind_1_sorted))\n",
        "\n",
        "    ind_1_update=ind_1_sorted[:num_remember]\n",
        "    ind_2_update=ind_2_sorted[:num_remember]\n",
        "\n",
        "    loss_1_update = criterion(y_1[ind_2_update], t[ind_2_update]).mean(dim=0).mean(dim=0)\n",
        "    loss_2_update = criterion(y_2[ind_1_update], t[ind_1_update]).mean(dim=0).mean(dim=0)\n",
        "\n",
        "    return loss_1_update, loss_2_update"
      ],
      "execution_count": null,
      "outputs": []
    },
    {
      "cell_type": "code",
      "metadata": {
        "colab": {
          "background_save": true,
          "base_uri": "https://localhost:8080/"
        },
        "id": "eJYCYx5bM1cF",
        "outputId": "281fd785-45f8-4532-b159-92a6aad06840"
      },
      "source": [
        "train_loss_hist = []\n",
        "train_loss_hist_each_class = []\n",
        "\n",
        "valid_loss_hist = []\n",
        "valid_loss_hist_each_class = []\n",
        "\n",
        "best_rex, best_mix = 0, 0\n",
        "#best = 0\n",
        "epochs_without_new_lowest = 0\n",
        "#lowest_val_loss_each_class = np.array([float('inf') for _ in range(56)])\n",
        "\n",
        "#model_rex.load_state_dict(torch.load('drive/MyDrive/MediaEval21/Emotion/model_coteaching_rex_'))\n",
        "#model_reg.load_state_dict(torch.load('drive/MyDrive/MediaEval21/Emotion/model_coteaching_mixs_'))\n",
        "\n",
        "for i in range(epochs):\n",
        "    print('Epoch: ', i)\n",
        "    \n",
        "    this_epoch_train_loss = 0\n",
        "    this_epoch_train_loss_each_class = np.zeros(56)\n",
        "    \n",
        "    for i1, i2 in zip(train_loader_1, train_loader_2):\n",
        "        # mixup---------\n",
        "        alpha = 1\n",
        "        mixup_vals = np.random.beta(alpha, alpha, i1[0].shape[0])\n",
        "        \n",
        "        lam = torch.Tensor(mixup_vals.reshape(mixup_vals.shape[0], 1, 1, 1))\n",
        "        mels = (lam * i1[0]) + ((1 - lam) * i2[0])\n",
        "        #wavs = (lam * i1[1]) + ((1 - lam) * i2[1])\n",
        "        lam = torch.Tensor(mixup_vals.reshape(mixup_vals.shape[0], 1))\n",
        "        labels = (lam * i1[1]) + ((1 - lam) * i2[1])\n",
        "        # mixup ends ----------\n",
        "        \n",
        "        # # https://stackoverflow.com/questions/55563376/pytorch-how-does-pin-memory-works-in-dataloader\n",
        "        mels = mels.to(device, non_blocking=False)\n",
        "        #wavs = wavs.to(device, non_blocking=False)\n",
        "        labels = labels.to(device, non_blocking=False)\n",
        "        \n",
        "        #print(inputs.size())\n",
        "        \n",
        "        optimizer_rex.zero_grad()\n",
        "        optimizer_reg.zero_grad()\n",
        "        with torch.set_grad_enabled(True):\n",
        "            model_rex = model_rex.train()\n",
        "            model_reg = model_reg.train()\n",
        "            logits_rex = model_rex(mels)\n",
        "            logits_reg = model_reg(mels)\n",
        "\n",
        "            loss_rex, loss_reg = coteaching_loss(logits_rex, logits_reg, labels, 0.05)\n",
        "            \n",
        "            loss_rex.backward()\n",
        "            optimizer_rex.step()\n",
        "            loss_reg.backward()\n",
        "            optimizer_reg.step()\n",
        "            \n",
        "            loss_val = loss_rex.detach().cpu().numpy() + loss_reg.detach().cpu().numpy()\n",
        "            \n",
        "            this_epoch_train_loss += loss_val\n",
        "    \n",
        "    this_epoch_valid_loss = 0\n",
        "    this_epoch_valid_rex = 0\n",
        "    this_epoch_valid_reg = 0\n",
        "    \n",
        "    all_rexs = []\n",
        "    all_regs = []\n",
        "    all_labs = []\n",
        "    for fn, row in tqdm.tqdm(valid_df.iterrows(), total=valid_df.shape[0]):\n",
        "        mel = get_tensor(fn)\n",
        "        ground_truth = row.values\n",
        "        \n",
        "        mel = mel.to(device)\n",
        "        #wav = wav.to(device)\n",
        "        optimizer_rex.zero_grad()\n",
        "        optimizer_reg.zero_grad()\n",
        "        with torch.set_grad_enabled(False):\n",
        "            model_rex = model_rex.eval()\n",
        "            model_reg = model_reg.eval()\n",
        "            logits_rex = model_rex(mel)\n",
        "            logits_reg = model_reg(mel)\n",
        "            \n",
        "            out_rex = logits_rex.detach().cpu()\n",
        "            out_reg = logits_reg.detach().cpu()\n",
        "            est_rex = np.array(out_rex).mean(axis=0)\n",
        "            est_reg = np.array(out_reg).mean(axis=0)\n",
        "\n",
        "            avg_rex = torch.mean(logits_rex, dim=0).unsqueeze(0)\n",
        "            avg_reg = torch.mean(logits_reg, dim=0).unsqueeze(0)\n",
        "            loss_rex = criterion(avg_rex, torch.tensor([ground_truth]).type(torch.cuda.FloatTensor))\n",
        "            loss_reg = criterion(avg_reg, torch.tensor([ground_truth]).type(torch.cuda.FloatTensor))\n",
        "\n",
        "            loss_rex = loss_rex.mean(dim=0).mean(dim=0).detach().cpu().numpy()\n",
        "            loss_reg = loss_reg.mean(dim=0).mean(dim=0).detach().cpu().numpy()\n",
        "            \n",
        "            this_epoch_valid_loss += loss_rex + loss_reg\n",
        "            this_epoch_valid_rex += loss_rex\n",
        "            this_epoch_valid_reg += loss_reg\n",
        "            all_rexs.append(est_rex)\n",
        "            all_regs.append(est_reg)\n",
        "            all_labs.append(ground_truth)\n",
        "    # for inputs, labels in val_loader:\n",
        "        \n",
        "    #     inputs = inputs.to(device)\n",
        "    #     labels = labels.to(device)\n",
        "        \n",
        "    #     optimizer_rex.zero_grad()\n",
        "    #     optimizer_reg.zero_grad()\n",
        "    #     with torch.set_grad_enabled(False):\n",
        "    #         model_rex = model_rex.eval()\n",
        "    #         model_reg = model_reg.eval()\n",
        "    #         logits_rex = model_rex(inputs)\n",
        "    #         logits_reg = model_reg(inputs)\n",
        "            \n",
        "    #         loss_rex = criterion(logits_rex, labels)\n",
        "    #         loss_reg = criterion(logits_reg, labels)\n",
        "            \n",
        "    #         loss_val = loss_rex.mean(dim=0).mean(dim=0).detach().cpu().numpy() + loss_reg.mean(dim=0).mean(dim=0).detach().cpu().numpy()\n",
        "            \n",
        "    #         this_epoch_valid_loss += loss_val\n",
        "    #         all_rexs.append(logits_rex.detach().cpu().numpy())\n",
        "    #         all_regs.append(logits_reg.detach().cpu().numpy())\n",
        "    #         all_labs.append(labels.detach().cpu().numpy())\n",
        "\n",
        "    \n",
        "    this_epoch_train_loss /= len(train_loader_1)\n",
        "    \n",
        "    this_epoch_valid_loss /= len(val_loader)\n",
        "    \n",
        "    train_loss_hist.append(this_epoch_train_loss)\n",
        "    valid_loss_hist.append(this_epoch_valid_loss)\n",
        "\n",
        "    all_rexs = np.concatenate(all_rexs, axis=0)\n",
        "    all_rexs = 1 / (1 + np.exp(-all_rexs))\n",
        "\n",
        "    all_regs = np.concatenate(all_regs, axis=0)\n",
        "    all_regs = 1 / (1 + np.exp(-all_regs))\n",
        "\n",
        "    #ensemble = 0.6 * all_rexs + 0.4 * all_regs\n",
        "\n",
        "    all_labs  = np.concatenate(all_labs,  axis=0)\n",
        "\n",
        "    pr_auc_rex = average_precision_score(all_labs, all_rexs, average='macro')\n",
        "    roc_auc_rex = roc_auc_score(all_labs, all_rexs, average='macro')\n",
        "    pr_auc_reg = average_precision_score(all_labs, all_regs, average='macro')\n",
        "    roc_auc_reg = roc_auc_score(all_labs, all_regs, average='macro')\n",
        "    # pr_auc = average_precision_score(all_labs, ensemble, average='macro')\n",
        "    # roc_auc = roc_auc_score(all_labs, ensemble, average='macro')\n",
        "    print({'train_loss' : this_epoch_train_loss, 'val_loss' : this_epoch_valid_loss})\n",
        "    print({'pr_auc_rex': pr_auc_rex, 'roc_auc_rex': roc_auc_rex})\n",
        "    print({'pr_auc_mix': pr_auc_reg, 'roc_auc_mix': roc_auc_reg})\n",
        "    if pr_auc_rex > best_rex:\n",
        "        best_rex = pr_auc_rex\n",
        "        torch.save(model_rex.state_dict(), 'drive/MyDrive/MediaEval21/Emotion/model_coteaching_rex_ver4')\n",
        "        epochs_without_new_lowest = 0\n",
        "        print('Saved rex....')\n",
        "    if pr_auc_reg > best_mix:\n",
        "        best_mix = pr_auc_reg\n",
        "        torch.save(model_reg.state_dict(), 'drive/MyDrive/MediaEval21/Emotion/model_coteaching_mixs_ver4')\n",
        "        epochs_without_new_lowest = 0\n",
        "        print('Saved mix....')\n",
        "    epochs_without_new_lowest += 1\n",
        "    # if pr_auc > best:\n",
        "    #     best = pr_auc\n",
        "    #     torch.save(model_rex.state_dict(), 'drive/MyDrive/MediaEval21/Emotion/model_coteaching_rex_ensemble')\n",
        "    #     torch.save(model_reg.state_dict(), 'drive/MyDrive/MediaEval21/Emotion/model_coteaching_reg_ensemble')\n",
        "    #     epochs_without_new_lowest = 0\n",
        "    #     print('Saved...')\n",
        "    # else:\n",
        "    #     epochs_without_new_lowest += 1\n",
        "    if epochs_without_new_lowest >= 10:\n",
        "        break\n",
        "    \n",
        "    scheduler_rex.step(this_epoch_valid_rex)\n",
        "    scheduler_reg.step(this_epoch_valid_reg)\n"
      ],
      "execution_count": null,
      "outputs": [
        {
          "name": "stdout",
          "output_type": "stream",
          "text": [
            "Epoch:  0\n"
          ]
        },
        {
          "name": "stderr",
          "output_type": "stream",
          "text": [
            "100%|██████████| 3787/3787 [04:55<00:00, 12.80it/s]\n"
          ]
        },
        {
          "name": "stdout",
          "output_type": "stream",
          "text": [
            "{'train_loss': 0.03633743843578912, 'val_loss': 10.258829113282264}\n",
            "{'pr_auc_rex': 0.06774647955871507, 'roc_auc_rex': 0.7071497384383094}\n",
            "{'pr_auc_mix': 0.07643523072061642, 'roc_auc_mix': 0.7236210197789243}\n",
            "Saved rex....\n",
            "Saved mix....\n",
            "Epoch:  1\n"
          ]
        },
        {
          "name": "stderr",
          "output_type": "stream",
          "text": [
            "100%|██████████| 3787/3787 [04:56<00:00, 12.79it/s]\n"
          ]
        },
        {
          "name": "stdout",
          "output_type": "stream",
          "text": [
            "{'train_loss': 0.031795327921549904, 'val_loss': 9.66443083913376}\n",
            "{'pr_auc_rex': 0.08128000244071584, 'roc_auc_rex': 0.7371217871176294}\n",
            "{'pr_auc_mix': 0.08834455477331495, 'roc_auc_mix': 0.7448468841964782}\n",
            "Saved rex....\n",
            "Saved mix....\n",
            "Epoch:  2\n"
          ]
        },
        {
          "name": "stderr",
          "output_type": "stream",
          "text": [
            "100%|██████████| 3787/3787 [04:55<00:00, 12.81it/s]\n"
          ]
        },
        {
          "name": "stdout",
          "output_type": "stream",
          "text": [
            "{'train_loss': 0.030910258221023893, 'val_loss': 9.92282726187259}\n",
            "{'pr_auc_rex': 0.09177593815715757, 'roc_auc_rex': 0.7447865278501493}\n",
            "{'pr_auc_mix': 0.08435652493707937, 'roc_auc_mix': 0.734315801893137}\n",
            "Saved rex....\n",
            "Epoch:  3\n"
          ]
        },
        {
          "name": "stderr",
          "output_type": "stream",
          "text": [
            "100%|██████████| 3787/3787 [04:54<00:00, 12.84it/s]\n"
          ]
        },
        {
          "name": "stdout",
          "output_type": "stream",
          "text": [
            "{'train_loss': 0.030566074865612577, 'val_loss': 9.661495102879902}\n",
            "{'pr_auc_rex': 0.09783430016751742, 'roc_auc_rex': 0.7571756553056559}\n",
            "{'pr_auc_mix': 0.09764707175574232, 'roc_auc_mix': 0.7562534917217858}\n",
            "Saved rex....\n",
            "Saved mix....\n",
            "Epoch:  4\n"
          ]
        },
        {
          "name": "stderr",
          "output_type": "stream",
          "text": [
            "100%|██████████| 3787/3787 [04:55<00:00, 12.84it/s]\n"
          ]
        },
        {
          "name": "stdout",
          "output_type": "stream",
          "text": [
            "{'train_loss': 0.030207941797396814, 'val_loss': 9.590162654096881}\n",
            "{'pr_auc_rex': 0.10539655958465372, 'roc_auc_rex': 0.7665147282006576}\n",
            "{'pr_auc_mix': 0.10031099948092165, 'roc_auc_mix': 0.7564791415990839}\n",
            "Saved rex....\n",
            "Saved mix....\n",
            "Epoch:  5\n"
          ]
        },
        {
          "name": "stderr",
          "output_type": "stream",
          "text": [
            "100%|██████████| 3787/3787 [04:55<00:00, 12.83it/s]\n"
          ]
        },
        {
          "name": "stdout",
          "output_type": "stream",
          "text": [
            "{'train_loss': 0.029749622178785767, 'val_loss': 9.801946845588585}\n",
            "{'pr_auc_rex': 0.10453219161643706, 'roc_auc_rex': 0.7599679283481022}\n",
            "{'pr_auc_mix': 0.10402369516667483, 'roc_auc_mix': 0.7555284256686444}\n",
            "Saved mix....\n",
            "Epoch:  6\n"
          ]
        },
        {
          "name": "stderr",
          "output_type": "stream",
          "text": [
            "100%|██████████| 3787/3787 [04:55<00:00, 12.81it/s]\n"
          ]
        },
        {
          "name": "stdout",
          "output_type": "stream",
          "text": [
            "{'train_loss': 0.029675416602152036, 'val_loss': 9.709225061163306}\n",
            "{'pr_auc_rex': 0.10065124581572028, 'roc_auc_rex': 0.7623231627230516}\n",
            "{'pr_auc_mix': 0.09525770633295015, 'roc_auc_mix': 0.7577361945155061}\n",
            "Epoch:  7\n"
          ]
        },
        {
          "name": "stderr",
          "output_type": "stream",
          "text": [
            "100%|██████████| 3787/3787 [04:54<00:00, 12.85it/s]\n"
          ]
        },
        {
          "name": "stdout",
          "output_type": "stream",
          "text": [
            "{'train_loss': 0.029476369030985005, 'val_loss': 9.721480155053237}\n",
            "{'pr_auc_rex': 0.10442651696427613, 'roc_auc_rex': 0.7625184340516971}\n",
            "{'pr_auc_mix': 0.10283207505245404, 'roc_auc_mix': 0.7523621815633228}\n",
            "Epoch     8: reducing learning rate of group 0 to 1.0000e-04.\n",
            "Epoch:  8\n"
          ]
        },
        {
          "name": "stderr",
          "output_type": "stream",
          "text": [
            "100%|██████████| 3787/3787 [04:51<00:00, 12.97it/s]\n"
          ]
        },
        {
          "name": "stdout",
          "output_type": "stream",
          "text": [
            "{'train_loss': 0.02910410573190831, 'val_loss': 9.634639488191654}\n",
            "{'pr_auc_rex': 0.09845426601543675, 'roc_auc_rex': 0.7587809712645682}\n",
            "{'pr_auc_mix': 0.11249953754921675, 'roc_auc_mix': 0.7762763284001097}\n",
            "Saved mix....\n",
            "Epoch:  9\n"
          ]
        },
        {
          "name": "stderr",
          "output_type": "stream",
          "text": [
            "100%|██████████| 3787/3787 [04:55<00:00, 12.83it/s]\n"
          ]
        },
        {
          "name": "stdout",
          "output_type": "stream",
          "text": [
            "{'train_loss': 0.028825012735811107, 'val_loss': 9.578710283370068}\n",
            "{'pr_auc_rex': 0.09943536811331291, 'roc_auc_rex': 0.7657923521304194}\n",
            "{'pr_auc_mix': 0.11301262742441469, 'roc_auc_mix': 0.7796153228670625}\n",
            "Saved mix....\n",
            "Epoch:  10\n"
          ]
        },
        {
          "name": "stderr",
          "output_type": "stream",
          "text": [
            "100%|██████████| 3787/3787 [04:51<00:00, 12.97it/s]\n"
          ]
        },
        {
          "name": "stdout",
          "output_type": "stream",
          "text": [
            "{'train_loss': 0.028738238274099978, 'val_loss': 9.52019392500321}\n",
            "{'pr_auc_rex': 0.11518374066089748, 'roc_auc_rex': 0.7712765859135579}\n",
            "{'pr_auc_mix': 0.11439121135642852, 'roc_auc_mix': 0.7776029549353105}\n",
            "Saved rex....\n",
            "Saved mix....\n",
            "Epoch:  11\n"
          ]
        },
        {
          "name": "stderr",
          "output_type": "stream",
          "text": [
            "100%|██████████| 3787/3787 [04:51<00:00, 13.01it/s]\n"
          ]
        },
        {
          "name": "stdout",
          "output_type": "stream",
          "text": [
            "{'train_loss': 0.02862318592634818, 'val_loss': 9.534685112256557}\n",
            "{'pr_auc_rex': 0.11379100739515366, 'roc_auc_rex': 0.7740924699966196}\n",
            "{'pr_auc_mix': 0.11494816581618295, 'roc_auc_mix': 0.777760267874207}\n",
            "Saved mix....\n",
            "Epoch:  12\n"
          ]
        },
        {
          "name": "stderr",
          "output_type": "stream",
          "text": [
            "100%|██████████| 3787/3787 [04:53<00:00, 12.92it/s]\n"
          ]
        },
        {
          "name": "stdout",
          "output_type": "stream",
          "text": [
            "{'train_loss': 0.028558609742961878, 'val_loss': 9.6613619716838}\n",
            "{'pr_auc_rex': 0.10187535956706628, 'roc_auc_rex': 0.766423471865217}\n",
            "{'pr_auc_mix': 0.11540847716234472, 'roc_auc_mix': 0.7788184376744705}\n",
            "Saved mix....\n",
            "Epoch:  13\n"
          ]
        },
        {
          "name": "stderr",
          "output_type": "stream",
          "text": [
            "100%|██████████| 3787/3787 [04:53<00:00, 12.92it/s]\n"
          ]
        },
        {
          "name": "stdout",
          "output_type": "stream",
          "text": [
            "{'train_loss': 0.028346256584140427, 'val_loss': 9.58571578587095}\n",
            "{'pr_auc_rex': 0.10605416534328099, 'roc_auc_rex': 0.7709440972186095}\n",
            "{'pr_auc_mix': 0.11500201073955407, 'roc_auc_mix': 0.7790403438568396}\n",
            "Epoch:  14\n"
          ]
        },
        {
          "name": "stderr",
          "output_type": "stream",
          "text": [
            "100%|██████████| 3787/3787 [04:51<00:00, 13.00it/s]\n"
          ]
        },
        {
          "name": "stdout",
          "output_type": "stream",
          "text": [
            "{'train_loss': 0.02817937620776765, 'val_loss': 9.653277966069679}\n",
            "{'pr_auc_rex': 0.10954833187154842, 'roc_auc_rex': 0.7716104056742481}\n",
            "{'pr_auc_mix': 0.1136712249836713, 'roc_auc_mix': 0.7781460587699249}\n",
            "Epoch:  15\n"
          ]
        },
        {
          "name": "stderr",
          "output_type": "stream",
          "text": [
            "100%|██████████| 3787/3787 [04:55<00:00, 12.80it/s]\n"
          ]
        },
        {
          "name": "stdout",
          "output_type": "stream",
          "text": [
            "{'train_loss': 0.028028824762936604, 'val_loss': 9.702273819285134}\n",
            "{'pr_auc_rex': 0.10385991180859017, 'roc_auc_rex': 0.7641490363914543}\n",
            "{'pr_auc_mix': 0.11154929246589035, 'roc_auc_mix': 0.7762316848961052}\n",
            "Epoch:  16\n"
          ]
        },
        {
          "name": "stderr",
          "output_type": "stream",
          "text": [
            "100%|██████████| 3787/3787 [04:56<00:00, 12.79it/s]\n"
          ]
        },
        {
          "name": "stdout",
          "output_type": "stream",
          "text": [
            "{'train_loss': 0.028181678734402707, 'val_loss': 9.633282301559424}\n",
            "{'pr_auc_rex': 0.10987097528693596, 'roc_auc_rex': 0.7668748721943826}\n",
            "{'pr_auc_mix': 0.11633340489815869, 'roc_auc_mix': 0.7791610716356829}\n",
            "Saved mix....\n",
            "Epoch    17: reducing learning rate of group 0 to 1.0000e-04.\n",
            "Epoch:  17\n"
          ]
        },
        {
          "name": "stderr",
          "output_type": "stream",
          "text": [
            "100%|██████████| 3787/3787 [04:54<00:00, 12.84it/s]\n"
          ]
        },
        {
          "name": "stdout",
          "output_type": "stream",
          "text": [
            "{'train_loss': 0.027957962700396986, 'val_loss': 9.607287130411715}\n",
            "{'pr_auc_rex': 0.11764962477558227, 'roc_auc_rex': 0.7786522138287355}\n",
            "{'pr_auc_mix': 0.11480194493895643, 'roc_auc_mix': 0.7796612274214356}\n",
            "Saved rex....\n",
            "Epoch:  18\n"
          ]
        },
        {
          "name": "stderr",
          "output_type": "stream",
          "text": [
            "100%|██████████| 3787/3787 [04:55<00:00, 12.82it/s]\n"
          ]
        },
        {
          "name": "stdout",
          "output_type": "stream",
          "text": [
            "{'train_loss': 0.027740031778019793, 'val_loss': 9.621474395940702}\n",
            "{'pr_auc_rex': 0.11873349252698122, 'roc_auc_rex': 0.7792619355502671}\n",
            "{'pr_auc_mix': 0.1179916158680329, 'roc_auc_mix': 0.7797207478383638}\n",
            "Saved rex....\n",
            "Saved mix....\n",
            "Epoch:  19\n"
          ]
        },
        {
          "name": "stderr",
          "output_type": "stream",
          "text": [
            "100%|██████████| 3787/3787 [04:57<00:00, 12.74it/s]\n"
          ]
        },
        {
          "name": "stdout",
          "output_type": "stream",
          "text": [
            "{'train_loss': 0.02773938336614387, 'val_loss': 9.622963587846607}\n",
            "{'pr_auc_rex': 0.1181628662572902, 'roc_auc_rex': 0.7786087195825977}\n",
            "{'pr_auc_mix': 0.11649028212928966, 'roc_auc_mix': 0.7776016861484365}\n",
            "Epoch:  20\n"
          ]
        },
        {
          "name": "stderr",
          "output_type": "stream",
          "text": [
            "100%|██████████| 3787/3787 [04:56<00:00, 12.76it/s]\n"
          ]
        },
        {
          "name": "stdout",
          "output_type": "stream",
          "text": [
            "{'train_loss': 0.027708795780302786, 'val_loss': 9.806436789485936}\n",
            "{'pr_auc_rex': 0.1149381277452264, 'roc_auc_rex': 0.7749537658511585}\n",
            "{'pr_auc_mix': 0.1120133529501165, 'roc_auc_mix': 0.7739590381023747}\n",
            "Epoch:  21\n"
          ]
        },
        {
          "name": "stderr",
          "output_type": "stream",
          "text": [
            "100%|██████████| 3787/3787 [04:57<00:00, 12.74it/s]\n"
          ]
        },
        {
          "name": "stdout",
          "output_type": "stream",
          "text": [
            "{'train_loss': 0.0275205370263322, 'val_loss': 9.717582225023458}\n",
            "{'pr_auc_rex': 0.11982224781282608, 'roc_auc_rex': 0.7802712551217532}\n",
            "{'pr_auc_mix': 0.11768990044325373, 'roc_auc_mix': 0.7773278467399161}\n",
            "Saved rex....\n",
            "Epoch:  22\n"
          ]
        },
        {
          "name": "stderr",
          "output_type": "stream",
          "text": [
            "100%|██████████| 3787/3787 [04:56<00:00, 12.78it/s]\n"
          ]
        },
        {
          "name": "stdout",
          "output_type": "stream",
          "text": [
            "{'train_loss': 0.027505167720324183, 'val_loss': 9.65613337350078}\n",
            "{'pr_auc_rex': 0.12018132211881724, 'roc_auc_rex': 0.781118689479693}\n",
            "{'pr_auc_mix': 0.11675248868479142, 'roc_auc_mix': 0.7784569711251594}\n",
            "Saved rex....\n",
            "Epoch    23: reducing learning rate of group 0 to 1.0000e-05.\n",
            "Epoch    23: reducing learning rate of group 0 to 1.0000e-05.\n",
            "Epoch:  23\n"
          ]
        },
        {
          "name": "stderr",
          "output_type": "stream",
          "text": [
            "100%|██████████| 3787/3787 [04:56<00:00, 12.77it/s]\n"
          ]
        },
        {
          "name": "stdout",
          "output_type": "stream",
          "text": [
            "{'train_loss': 0.027543992543896886, 'val_loss': 9.688646074198186}\n",
            "{'pr_auc_rex': 0.12036987925116295, 'roc_auc_rex': 0.7810268989385594}\n",
            "{'pr_auc_mix': 0.11589440833724976, 'roc_auc_mix': 0.7776392221249947}\n",
            "Saved rex....\n",
            "Epoch:  24\n"
          ]
        },
        {
          "name": "stderr",
          "output_type": "stream",
          "text": [
            "100%|██████████| 3787/3787 [04:58<00:00, 12.70it/s]\n"
          ]
        },
        {
          "name": "stdout",
          "output_type": "stream",
          "text": [
            "{'train_loss': 0.02729069837864409, 'val_loss': 9.725090674761061}\n",
            "{'pr_auc_rex': 0.11857362761418473, 'roc_auc_rex': 0.7794580884536951}\n",
            "{'pr_auc_mix': 0.1148437545630755, 'roc_auc_mix': 0.7761978848779707}\n",
            "Epoch:  25\n"
          ]
        },
        {
          "name": "stderr",
          "output_type": "stream",
          "text": [
            "100%|██████████| 3787/3787 [04:55<00:00, 12.83it/s]\n"
          ]
        },
        {
          "name": "stdout",
          "output_type": "stream",
          "text": [
            "{'train_loss': 0.027346497461041237, 'val_loss': 9.735331442548583}\n",
            "{'pr_auc_rex': 0.11903512351179182, 'roc_auc_rex': 0.779693039931351}\n",
            "{'pr_auc_mix': 0.11574277757215334, 'roc_auc_mix': 0.7763558070666617}\n",
            "Epoch:  26\n"
          ]
        },
        {
          "name": "stderr",
          "output_type": "stream",
          "text": [
            "100%|██████████| 3787/3787 [04:55<00:00, 12.84it/s]\n"
          ]
        },
        {
          "name": "stdout",
          "output_type": "stream",
          "text": [
            "{'train_loss': 0.02731974485680355, 'val_loss': 9.746489024938395}\n",
            "{'pr_auc_rex': 0.11775452811434595, 'roc_auc_rex': 0.7791025898445954}\n",
            "{'pr_auc_mix': 0.11460924606120128, 'roc_auc_mix': 0.7772464277578273}\n",
            "Epoch:  27\n"
          ]
        },
        {
          "name": "stderr",
          "output_type": "stream",
          "text": [
            "100%|██████████| 3787/3787 [04:54<00:00, 12.87it/s]\n"
          ]
        },
        {
          "name": "stdout",
          "output_type": "stream",
          "text": [
            "{'train_loss': 0.02730589772158481, 'val_loss': 9.7221882557186}\n",
            "{'pr_auc_rex': 0.11860670253734559, 'roc_auc_rex': 0.7791208441289205}\n",
            "{'pr_auc_mix': 0.11596409294328451, 'roc_auc_mix': 0.777546972809095}\n",
            "Epoch:  28\n"
          ]
        },
        {
          "name": "stderr",
          "output_type": "stream",
          "text": [
            "100%|██████████| 3787/3787 [04:54<00:00, 12.86it/s]\n"
          ]
        },
        {
          "name": "stdout",
          "output_type": "stream",
          "text": [
            "{'train_loss': 0.027173184485881463, 'val_loss': 9.770827926540127}\n",
            "{'pr_auc_rex': 0.11834314937256989, 'roc_auc_rex': 0.7796950699903495}\n",
            "{'pr_auc_mix': 0.1165903441772548, 'roc_auc_mix': 0.7780782703497511}\n",
            "Epoch    29: reducing learning rate of group 0 to 1.0000e-06.\n",
            "Epoch    29: reducing learning rate of group 0 to 1.0000e-06.\n",
            "Epoch:  29\n"
          ]
        },
        {
          "name": "stderr",
          "output_type": "stream",
          "text": [
            "100%|██████████| 3787/3787 [04:54<00:00, 12.87it/s]\n"
          ]
        },
        {
          "name": "stdout",
          "output_type": "stream",
          "text": [
            "{'train_loss': 0.027237024600782717, 'val_loss': 9.774540205579251}\n",
            "{'pr_auc_rex': 0.11740961683900301, 'roc_auc_rex': 0.7781557139285761}\n",
            "{'pr_auc_mix': 0.11449565211029658, 'roc_auc_mix': 0.7756063420098374}\n",
            "Epoch:  30\n"
          ]
        },
        {
          "name": "stderr",
          "output_type": "stream",
          "text": [
            "100%|██████████| 3787/3787 [04:48<00:00, 13.15it/s]\n"
          ]
        },
        {
          "name": "stdout",
          "output_type": "stream",
          "text": [
            "{'train_loss': 0.027314892890764043, 'val_loss': 9.739014434224616}\n",
            "{'pr_auc_rex': 0.11948845966262636, 'roc_auc_rex': 0.7802331226606342}\n",
            "{'pr_auc_mix': 0.11673015627366844, 'roc_auc_mix': 0.7782144104076866}\n",
            "Epoch:  31\n"
          ]
        },
        {
          "name": "stderr",
          "output_type": "stream",
          "text": [
            "100%|██████████| 3787/3787 [04:48<00:00, 13.13it/s]\n"
          ]
        },
        {
          "name": "stdout",
          "output_type": "stream",
          "text": [
            "{'train_loss': 0.027236983364989573, 'val_loss': 9.778217396885157}\n",
            "{'pr_auc_rex': 0.11726570220176431, 'roc_auc_rex': 0.7787259361484972}\n",
            "{'pr_auc_mix': 0.11478938076799251, 'roc_auc_mix': 0.7763878470298338}\n",
            "Epoch:  32\n"
          ]
        }
      ]
    },
    {
      "cell_type": "code",
      "metadata": {
        "id": "KhY1SAJFQzpi"
      },
      "source": [
        ""
      ],
      "execution_count": null,
      "outputs": []
    },
    {
      "cell_type": "markdown",
      "metadata": {
        "id": "Q1hP-Y6OQ0uV"
      },
      "source": [
        "model_rex.load_state_dict(torch.load('drive/MyDrive/MediaEval21/Emotion/model_coteaching_rex_')) => 0.118\n",
        "model_reg.load_state_dict(torch.load('drive/MyDrive/MediaEval21/Emotion/model_coteaching_mixs_')) => 0.119"
      ]
    },
    {
      "cell_type": "code",
      "metadata": {
        "id": "fKwY1Fq-t-TT"
      },
      "source": [
        "train_loss_hist = []\n",
        "train_loss_hist_each_class = []\n",
        "\n",
        "valid_loss_hist = []\n",
        "valid_loss_hist_each_class = []\n",
        "\n",
        "best = 0\n",
        "epochs_without_new_lowest = 0\n",
        "\n",
        "#model.load_state_dict(torch.load('drive/MyDrive/MediaEval21/Emotion/model_rexnet'))\n",
        "\n",
        "for i in range(epochs):\n",
        "    print('Epoch: ', i)\n",
        "    \n",
        "    this_epoch_train_loss = 0\n",
        "    this_epoch_train_loss_each_class = np.zeros(56)\n",
        "    \n",
        "    for i1, i2 in zip(train_loader_1, train_loader_2):\n",
        "        # mixup---------\n",
        "        alpha = 1\n",
        "        mixup_vals = np.random.beta(alpha, alpha, i1[0].shape[0])\n",
        "        \n",
        "        lam = torch.Tensor(mixup_vals.reshape(mixup_vals.shape[0], 1, 1, 1))\n",
        "        inputs = (lam * i1[0]) + ((1 - lam) * i2[0])\n",
        "        \n",
        "        lam = torch.Tensor(mixup_vals.reshape(mixup_vals.shape[0], 1))\n",
        "        labels = (lam * i1[1]) + ((1 - lam) * i2[1])\n",
        "        # mixup ends ----------\n",
        "        \n",
        "        # # https://stackoverflow.com/questions/55563376/pytorch-how-does-pin-memory-works-in-dataloader\n",
        "        inputs = inputs.to(device, non_blocking=False)\n",
        "        labels = labels.to(device, non_blocking=False)\n",
        "        \n",
        "        #print(inputs.size())\n",
        "        \n",
        "        optimizer.zero_grad()\n",
        "        with torch.set_grad_enabled(True):\n",
        "            model = model.train()\n",
        "            outputs = model(inputs)\n",
        "            \n",
        "            loss = criterion(outputs, labels)\n",
        "            total_loss = loss.mean(dim=0).mean(dim=0)\n",
        "            total_loss.backward()\n",
        "            optimizer.step()\n",
        "            \n",
        "            loss_val = total_loss.detach().cpu().numpy()\n",
        "            \n",
        "            #print(\"Batch: \", loss_val)\n",
        "            \n",
        "            this_epoch_train_loss += loss_val\n",
        "    \n",
        "    this_epoch_valid_loss = 0\n",
        "    this_epoch_valid_loss_each_class = np.zeros(56)\n",
        "    \n",
        "    all_outputs = []\n",
        "    all_inputs = []\n",
        "    for inputs, labels in val_loader:\n",
        "        \n",
        "        inputs = inputs.to(device)\n",
        "        labels = labels.to(device)\n",
        "        \n",
        "        optimizer.zero_grad()\n",
        "        with torch.set_grad_enabled(False):\n",
        "            model = model.eval()\n",
        "            outputs = model(inputs)\n",
        "            \n",
        "            loss = criterion(outputs, labels)\n",
        "            \n",
        "            loss_val = loss.mean(dim=0).mean(dim=0).detach().cpu().numpy()\n",
        "            loss_val_each_class = loss.mean(dim=0).detach().cpu().numpy()\n",
        "            \n",
        "            this_epoch_valid_loss += loss_val\n",
        "            this_epoch_valid_loss_each_class += loss_val_each_class\n",
        "            all_outputs.append(outputs.detach().cpu().numpy())\n",
        "            all_inputs.append(labels.detach().cpu().numpy())\n",
        "    \n",
        "    this_epoch_train_loss /= len(train_loader_1)\n",
        "    \n",
        "    this_epoch_valid_loss /= len(val_loader)\n",
        "    this_epoch_valid_loss_each_class /= len(val_loader)\n",
        "    \n",
        "    train_loss_hist.append(this_epoch_train_loss)\n",
        "    valid_loss_hist.append(this_epoch_valid_loss)\n",
        "\n",
        "    all_outputs = np.concatenate(all_outputs, axis=0)\n",
        "    all_outputs = 1 / (1 + np.exp(-all_outputs))\n",
        "\n",
        "    all_inputs  = np.concatenate(all_inputs,  axis=0)\n",
        "\n",
        "    pr_auc = average_precision_score(all_inputs, all_outputs, average='macro')\n",
        "    roc_auc = roc_auc_score(all_inputs, all_outputs, average='macro')\n",
        "    print({'train_loss' : this_epoch_train_loss, 'val_loss' : this_epoch_valid_loss})\n",
        "    print({'pr_auc': pr_auc, 'roc_auc': roc_auc})\n",
        "    if pr_auc > best:\n",
        "        best = pr_auc\n",
        "        torch.save(model.state_dict(), 'drive/MyDrive/MediaEval21/Emotion/model_rexnet_rand')\n",
        "        epochs_without_new_lowest = 0\n",
        "        print('Saved!')\n",
        "    else:\n",
        "        epochs_without_new_lowest += 1\n",
        "    \n",
        "    for i in range(56):\n",
        "        if this_epoch_valid_loss_each_class[i] < lowest_val_loss_each_class[i]:\n",
        "            lowest_val_loss_each_class[i] = this_epoch_valid_loss_each_class[i]\n",
        "            torch.save(model.state_dict(), 'drive/MyDrive/MediaEval21/Emotion/each_class/model_rexnet_rand_c{}'.format(i))\n",
        "    \n",
        "    if epochs_without_new_lowest >= 25:\n",
        "        break\n",
        "    \n",
        "    scheduler.step(this_epoch_valid_loss)\n"
      ],
      "execution_count": null,
      "outputs": []
    },
    {
      "cell_type": "code",
      "metadata": {
        "colab": {
          "base_uri": "https://localhost:8080/"
        },
        "id": "R9SzLu66NC69",
        "outputId": "5b1852cb-96f0-40d0-e0db-9a8db73aaa86"
      },
      "source": [
        "test_loader = DataLoader(test_dataset, 256, shuffle=False, num_workers=6)"
      ],
      "execution_count": null,
      "outputs": [
        {
          "name": "stderr",
          "output_type": "stream",
          "text": [
            "/usr/local/lib/python3.7/dist-packages/torch/utils/data/dataloader.py:481: UserWarning: This DataLoader will create 6 worker processes in total. Our suggested max number of worker in current system is 2, which is smaller than what this DataLoader is going to create. Please be aware that excessive worker creation might get DataLoader running slow or even freeze, lower the worker number to avoid potential slowness/freeze if necessary.\n",
            "  cpuset_checked))\n"
          ]
        }
      ]
    },
    {
      "cell_type": "code",
      "metadata": {
        "colab": {
          "base_uri": "https://localhost:8080/"
        },
        "id": "TaVr1kcns7IV",
        "outputId": "ac1e4470-3d22-4366-e238-1718d79a7b2a"
      },
      "source": [
        "model_rex.load_state_dict(torch.load('drive/MyDrive/MediaEval21/Emotion/model_coteaching_rex_ver4'))\n",
        "#model_reg.load_state_dict(torch.load('drive/MyDrive/MediaEval21/Emotion/model_coteaching_reg_ensemble'))\n",
        "# for inputs, labels in val_loader:\n",
        "    \n",
        "#     #all_inputs.append(labels)\n",
        "#     inputs = inputs.to(device)\n",
        "#     labels = labels.to(device)\n",
        "    \n",
        "#     optimizer.zero_grad()\n",
        "#     with torch.set_grad_enabled(False):\n",
        "#         model = model.eval()\n",
        "#         outputs = model(inputs)\n",
        "        \n",
        "#         loss = criterion(outputs, labels)\n",
        "#         loss_val = loss.mean(dim=0).mean(dim=0).detach().cpu().numpy()\n",
        "#         this_epoch_valid_loss += loss_val\n",
        "        \n",
        "#         all_outputs.append(outputs.detach().cpu().numpy())\n",
        "#         all_inputs.append(labels.detach().cpu().numpy())\n",
        "\n",
        "# all_outputs = np.concatenate(all_outputs, axis=0)\n",
        "# all_outputs = 1 / (1 + np.exp(-all_outputs))\n",
        "\n",
        "# all_inputs  = np.concatenate(all_inputs,  axis=0)\n",
        "\n",
        "# from sklearn.metrics import precision_recall_curve\n",
        "\n",
        "# thresholds = {}\n",
        "# for i in range(56):\n",
        "#     precision, recall, threshold = precision_recall_curve(all_inputs[:, i], all_outputs[:, i])\n",
        "#     f_score = np.nan_to_num((2 * precision * recall) / (precision + recall))\n",
        "#     thresholds[i] = threshold[np.argmax(f_score)]\n",
        "\n",
        "all_outputs = []\n",
        "all_inputs = []\n",
        "\n",
        "for fn, row in tqdm.tqdm(test_df.iterrows(), total=test_df.shape[0]):\n",
        "        x = get_tensor(fn)\n",
        "        ground_truth = row.values\n",
        "        \n",
        "        inputs = x.to(device)\n",
        "        \n",
        "        with torch.set_grad_enabled(False):\n",
        "            model_rex = model_rex.eval()\n",
        "            outputs = model_rex(inputs)\n",
        "            \n",
        "            out = outputs.detach().cpu()\n",
        "            estimated = np.array(out).mean(axis=0)\n",
        "\n",
        "            all_outputs.append(estimated)\n",
        "            all_inputs.append(ground_truth)\n",
        "\n",
        "all_inputs  = np.concatenate(all_inputs,  axis=0)\n",
        "all_outputs  = np.concatenate(all_outputs,  axis=0)"
      ],
      "execution_count": null,
      "outputs": [
        {
          "output_type": "stream",
          "name": "stderr",
          "text": [
            "100%|██████████| 4231/4231 [03:50<00:00, 18.32it/s]\n"
          ]
        }
      ]
    },
    {
      "cell_type": "code",
      "metadata": {
        "id": "QK16Klr7S9Ru"
      },
      "source": [
        "from sklearn.metrics import roc_auc_score, average_precision_score"
      ],
      "execution_count": null,
      "outputs": []
    },
    {
      "cell_type": "code",
      "metadata": {
        "id": "tNyIb2lITDDX"
      },
      "source": [
        "test_loader = DataLoader(test_dataset, 40, shuffle=False)"
      ],
      "execution_count": null,
      "outputs": []
    },
    {
      "cell_type": "code",
      "metadata": {
        "id": "XlSdYFONSwrw"
      },
      "source": [
        "all_outputs = []\n",
        "all_inputs = []\n",
        "model_rex.load_state_dict(torch.load('drive/MyDrive/MediaEval21/Emotion/model_rexnet'))\n",
        "for inputs, labels in test_loader:\n",
        "    \n",
        "    #all_inputs.append(labels)\n",
        "    inputs = inputs.to(device)\n",
        "    labels = labels.to(device)\n",
        "    \n",
        "    #optimizer.zero_grad()\n",
        "    with torch.set_grad_enabled(False):\n",
        "        model_rex = model_rex.eval()\n",
        "        outputs = model_rex(inputs)\n",
        "        \n",
        "        all_outputs.append(outputs.detach().cpu().numpy())\n",
        "        all_inputs.append(labels.detach().cpu().numpy())\n",
        "\n",
        "all_outputs = np.concatenate(all_outputs, axis=0)\n",
        "all_inputs  = np.concatenate(all_inputs,  axis=0)"
      ],
      "execution_count": null,
      "outputs": []
    },
    {
      "cell_type": "code",
      "metadata": {
        "colab": {
          "base_uri": "https://localhost:8080/"
        },
        "id": "IEHQw4NPGGxr",
        "outputId": "628dc093-71b6-4438-83fc-526aaafff232"
      },
      "source": [
        "from sklearn.metrics import roc_auc_score, average_precision_score\n",
        "print(average_precision_score(all_inputs, 1 / (1 + np.exp(-all_outputs)), average='macro'))\n",
        "print(roc_auc_score(all_inputs, all_outputs, average='macro'))\n",
        "#Model rexnet coteaching ver 4 (with mixnet)"
      ],
      "execution_count": null,
      "outputs": [
        {
          "output_type": "stream",
          "name": "stdout",
          "text": [
            "0.07366830479479816\n",
            "0.6486768180389966\n"
          ]
        }
      ]
    },
    {
      "cell_type": "code",
      "metadata": {
        "colab": {
          "base_uri": "https://localhost:8080/"
        },
        "id": "Q4sQwS8nIYCO",
        "outputId": "95fe9d2d-f743-4a25-95af-225fda90b77a"
      },
      "source": [
        "from sklearn.metrics import roc_auc_score, average_precision_score\n",
        "print(average_precision_score(all_inputs, all_outputs, average='macro'))\n",
        "print(roc_auc_score(all_inputs, all_outputs, average='macro'))\n",
        "#Model Rexnet Random"
      ],
      "execution_count": null,
      "outputs": [
        {
          "output_type": "stream",
          "name": "stdout",
          "text": [
            "0.15007308828298072\n",
            "0.7951501539331387\n"
          ]
        }
      ]
    },
    {
      "cell_type": "code",
      "metadata": {
        "colab": {
          "base_uri": "https://localhost:8080/"
        },
        "id": "lDXoiAXcKaXg",
        "outputId": "dbfb3d80-2580-4030-e686-865d56a913fd"
      },
      "source": [
        "from sklearn.metrics import roc_auc_score, average_precision_score\n",
        "print(average_precision_score(all_inputs, all_outputs, average='macro'))\n",
        "print(roc_auc_score(all_inputs, all_outputs, average='macro'))\n",
        "#Model mixnets coteaching ver 4 (with rexnet)"
      ],
      "execution_count": null,
      "outputs": [
        {
          "output_type": "stream",
          "name": "stdout",
          "text": [
            "0.15018249108802953\n",
            "0.7934276105527807\n"
          ]
        }
      ]
    }
  ]
}